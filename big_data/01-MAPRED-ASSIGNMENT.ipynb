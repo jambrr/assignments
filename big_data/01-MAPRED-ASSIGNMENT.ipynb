{
 "cells": [
  {
   "cell_type": "markdown",
   "metadata": {
    "nbgrader": {
     "grade": false,
     "grade_id": "cell-30e9a7c49790a0f2",
     "locked": true,
     "schema_version": 3,
     "solution": false
    }
   },
   "source": [
    "# Assignment 1: MapReduce"
   ]
  },
  {
   "cell_type": "markdown",
   "metadata": {
    "nbgrader": {
     "grade": false,
     "grade_id": "cell-36912ea78749d08d",
     "locked": true,
     "schema_version": 3,
     "solution": false
    }
   },
   "source": [
    "__The goal of this assignment is to implement 5 functions related to MapReduce and create 5 queries with them.__\n",
    "\n",
    "MapReduce is based on functional programming, an approach that encourages the use of functions to build program.\n",
    "\n",
    "While MapReduce can effectively process large amount of data, functional programming is a more general framework.\n",
    "\n",
    "The purpose of this tutorial is to introduce you to functional programming through the use of MapReduce functions.\n",
    "\n",
    "In the following course, we will use other functions to build higher-level abstraction based on Spark and RDD.\n",
    "\n",
    "__The MapReduce functions are explained in the example section of this notebook.__\n",
    "\n",
    "__Grade scale__: 20 points\n",
    "- __correct function/query__: 2 points\n",
    "- __incorrect function/query__: 2 points\n",
    "\n",
    "__Further documentations__:\n",
    "* https://learnxinyminutes.com/docs/python/\n",
    "* https://en.wikipedia.org/wiki/MapReduce\n",
    "* https://en.wikipedia.org/wiki/Functional_programming\n",
    "* https://www.dataquest.io/blog/introduction-functional-programming-python/"
   ]
  },
  {
   "cell_type": "markdown",
   "metadata": {},
   "source": [
    "# Core"
   ]
  },
  {
   "cell_type": "code",
   "execution_count": 2,
   "metadata": {},
   "outputs": [],
   "source": [
    "# define some helper functions with lambda\n",
    "# lambdas are functions that must fit on 1 line \n",
    "\n",
    "inc = lambda x: x + 1\n",
    "dec = lambda x: x - 1\n",
    "square = lambda x: x * x\n",
    "\n",
    "add = lambda x, y: x + y\n",
    "sub = lambda x, y: x - y\n",
    "\n",
    "ispos = lambda x: x > 0\n",
    "isneg = lambda x: x < 0 \n",
    "\n",
    "isodd = lambda x: x % 2 == 1\n",
    "iseven = lambda x: x % 2 == 0\n",
    "\n",
    "ident = lambda x: (x, x)\n",
    "sumall = lambda x: ('sum', x)\n",
    "lenall = lambda x: ('len', len(x))\n",
    "leneach = lambda x: (x, len(x))\n",
    "countall = lambda x: ('count', 1)\n",
    "counteach = lambda x: (x, 1)"
   ]
  },
  {
   "cell_type": "markdown",
   "metadata": {
    "nbgrader": {
     "grade": false,
     "grade_id": "cell-cad05a4141096aae",
     "locked": true,
     "schema_version": 3,
     "solution": false
    }
   },
   "source": [
    "# Examples"
   ]
  },
  {
   "cell_type": "code",
   "execution_count": 3,
   "metadata": {},
   "outputs": [
    {
     "data": {
      "text/plain": [
       "[1, 2, 3, 4, 5, 6, 7, 8, 9, 10]"
      ]
     },
     "execution_count": 3,
     "metadata": {},
     "output_type": "execute_result"
    }
   ],
   "source": [
    "# map(f: Callable, coll: Iterable) -> Iterable: apply f to every object of coll\n",
    "# - range(x: int) -> List[int]: generate a list of number from 0 to x (excluded)\n",
    "# - Python's map mus be converted to a list so it can be printed on the screen\n",
    "\n",
    "list(map(inc, range(10)))"
   ]
  },
  {
   "cell_type": "code",
   "execution_count": 4,
   "metadata": {
    "nbgrader": {
     "grade": false,
     "grade_id": "cell-08269fe2713002dc",
     "locked": true,
     "schema_version": 3,
     "solution": false
    }
   },
   "outputs": [
    {
     "data": {
      "text/plain": [
       "[0, 2, 4, 6, 8]"
      ]
     },
     "execution_count": 4,
     "metadata": {},
     "output_type": "execute_result"
    }
   ],
   "source": [
    "# filter(f: Callable[..., bool], coll: Iterable) -> Iterable: keep every object of coll that satisfy f\n",
    "# - we call f a predicate as this functions must return either True of False (boolean)\n",
    "# - f is satified when its returns value is True\n",
    "\n",
    "list(filter(iseven, range(10)))"
   ]
  },
  {
   "cell_type": "code",
   "execution_count": 5,
   "metadata": {
    "nbgrader": {
     "grade": false,
     "grade_id": "cell-457d38ae34e662f6",
     "locked": true,
     "schema_version": 3,
     "solution": false
    },
    "scrolled": false
   },
   "outputs": [
    {
     "data": {
      "text/plain": [
       "50"
      ]
     },
     "execution_count": 5,
     "metadata": {},
     "output_type": "execute_result"
    }
   ],
   "source": [
    "# reduce(f: Callable, coll: Iterable, init: Any) -> Any: apply f on 2 objects cumulatively starting with init\n",
    "# - example: an addition is a reduce function applied to a list of number where f is the + sign\n",
    "# - we must import reduce from functools as this function is not built anymore in Python 3\n",
    "\n",
    "from functools import reduce\n",
    "\n",
    "reduce(add, range(10), 5)"
   ]
  },
  {
   "cell_type": "markdown",
   "metadata": {
    "nbgrader": {
     "grade": false,
     "grade_id": "cell-11dbfef022a47803",
     "locked": true,
     "schema_version": 3,
     "solution": false
    }
   },
   "source": [
    "# Functions\n",
    "\n",
    "__You must not use Python builtins functions (i.e map, filter, reduce) !__  \n",
    "\n",
    "I used my secret teacher assistant power to make the test fail if you do.\n",
    "\n",
    "Instead, you must use for loops to create and return a new collection."
   ]
  },
  {
   "cell_type": "code",
   "execution_count": 6,
   "metadata": {
    "nbgrader": {
     "grade": false,
     "grade_id": "cell-d372dd9366ff2a81",
     "locked": false,
     "schema_version": 3,
     "solution": true
    }
   },
   "outputs": [],
   "source": [
    "def mymap(f, coll):\n",
    "    \"\"\"Apply f to every object of coll.\"\"\"\n",
    "    ### BEGIN SOLUTION\n",
    "    result = []\n",
    "    \n",
    "    for c in coll:\n",
    "        result.append(f(c))\n",
    "        \n",
    "    return result\n",
    "    ### END SOLUTION"
   ]
  },
  {
   "cell_type": "code",
   "execution_count": 7,
   "metadata": {
    "nbgrader": {
     "grade": false,
     "grade_id": "cell-e0cbea6b098e700d",
     "locked": false,
     "schema_version": 3,
     "solution": true
    }
   },
   "outputs": [],
   "source": [
    "def myfilter(f, coll):\n",
    "    \"\"\"Keep every object x of coll that satisfies f(x) (f(x) returns True).\"\"\"\n",
    "    ### BEGIN SOLUTION\n",
    "    result = []\n",
    "    for c in coll:\n",
    "        if f(c) != True:\n",
    "            continue\n",
    "        else:\n",
    "            result.append(f(c))\n",
    "            \n",
    "    return result\n",
    "    ### END SOLUTION"
   ]
  },
  {
   "cell_type": "code",
   "execution_count": 8,
   "metadata": {
    "nbgrader": {
     "grade": false,
     "grade_id": "cell-05efaa531223c2eb",
     "locked": false,
     "schema_version": 3,
     "solution": true
    },
    "scrolled": true
   },
   "outputs": [],
   "source": [
    "def myreduce(f, coll, init):\n",
    "    \"\"\"Apply f every two object of coll cumulatively starting with init.\"\"\"\n",
    "    ### BEGIN SOLUTION\n",
    "    result = init\n",
    "    for c in coll:\n",
    "        result = f(result, c)\n",
    "    \n",
    "    return result\n",
    "    ### END SOLUTION"
   ]
  },
  {
   "cell_type": "code",
   "execution_count": 9,
   "metadata": {
    "nbgrader": {
     "grade": false,
     "grade_id": "cell-adfabf84c57041b7",
     "locked": true,
     "schema_version": 3,
     "solution": false
    }
   },
   "outputs": [],
   "source": [
    "# you don't need to implement this function, just to understand it\n",
    "# this function is required by MapReduce to distribute over reducers\n",
    "# myshuffle will be called by MapReduce between mapper and reducer calls\n",
    "\n",
    "def myshuffle(tuples):\n",
    "    \"\"\"Group tuple values (second entry) by their key (first entry).\"\"\"\n",
    "    shuffled = dict()\n",
    "    \n",
    "    for key, value in tuples:\n",
    "        if key not in shuffled:\n",
    "            shuffled[key] = list()\n",
    "            \n",
    "        shuffled[key].append(value)\n",
    "    \n",
    "    return sorted(shuffled.items())"
   ]
  },
  {
   "cell_type": "code",
   "execution_count": 10,
   "metadata": {
    "nbgrader": {
     "grade": false,
     "grade_id": "cell-3df469226fbb6e27",
     "locked": false,
     "schema_version": 3,
     "solution": true
    },
    "scrolled": true
   },
   "outputs": [],
   "source": [
    "# mapper(x: Any) -> Iterable[Tuple[key, value]] (where Key = Value = Any)\n",
    "\n",
    "def mymapreduce(mapper, reducer, coll, init):\n",
    "    \"\"\"Perform the following steps on coll:\n",
    "       1. apply mapper on every object of coll\n",
    "       2. group the output of mapper with myshuffle function\n",
    "       3. run reducer with init on shuffled values and for each shuffled group\n",
    "       4. return the key and its reducer output for each shuffled group in a new coll\n",
    "    \"\"\"\n",
    "    ### BEGIN SOLUTION\n",
    "    result = []\n",
    "    shuffledData = myshuffle(tuple(mymap(mapper, coll)))\n",
    "\n",
    "    for col in shuffledData:\n",
    "        result.append((col[0], myreduce(reducer, col[1], 0)))\n",
    "    \n",
    "    return result\n",
    "    ### END SOLUTION"
   ]
  },
  {
   "cell_type": "code",
   "execution_count": 11,
   "metadata": {
    "nbgrader": {
     "grade": false,
     "grade_id": "cell-ecbe1b79490af35e",
     "locked": false,
     "schema_version": 3,
     "solution": true
    }
   },
   "outputs": [],
   "source": [
    "# this function is hard to implement and not required for the rest of the assignment !\n",
    "\n",
    "def myparmapreduce(pool, mapper, reducer, coll, init):\n",
    "    \"\"\"Parallel implementation of mapreduce:\n",
    "       1. mapper is run in parallel by pool.map()\n",
    "       2. reducers are run in parallel with pool.map()\n",
    "    \"\"\"\n",
    "    ### BEGIN SOLUTION\n",
    "    \n",
    "    \n",
    "    ### END SOLUTION"
   ]
  },
  {
   "cell_type": "markdown",
   "metadata": {
    "nbgrader": {
     "grade": false,
     "grade_id": "cell-2651e12ba517ac45",
     "locked": true,
     "schema_version": 3,
     "solution": false
    }
   },
   "source": [
    "__1. Count word occurrences in the given sentence__\n",
    "- __hint__: use `sentense.split(' ')` to convert a string to a list of words"
   ]
  },
  {
   "cell_type": "code",
   "execution_count": 12,
   "metadata": {
    "nbgrader": {
     "grade": false,
     "grade_id": "cell-2005e43b398e0d5e",
     "locked": false,
     "schema_version": 3,
     "solution": true
    }
   },
   "outputs": [
    {
     "data": {
      "text/plain": [
       "[('a', 2), ('big', 2), ('data', 1), ('is', 2), ('problem', 2), ('when', 1)]"
      ]
     },
     "execution_count": 12,
     "metadata": {},
     "output_type": "execute_result"
    }
   ],
   "source": [
    "sentence = \"a problem is a big problem when data is big\"\n",
    "\n",
    "def Q1(s):\n",
    "    ### BEGIN SOLUTION\n",
    "    chars = s.split(' ')\n",
    "        \n",
    "    result = mymapreduce(counteach, add, chars, 0)\n",
    "    return result\n",
    "    ### END SOLUTION\n",
    "    \n",
    "Q1(sentence)"
   ]
  },
  {
   "cell_type": "markdown",
   "metadata": {
    "nbgrader": {
     "grade": false,
     "grade_id": "cell-f707c2f4900a4ca0",
     "locked": true,
     "schema_version": 3,
     "solution": false
    }
   },
   "source": [
    "__2. Count the number of non-blank characters in the given sentence__\n",
    "- __hint__: aggregate all mapper values in a single key"
   ]
  },
  {
   "cell_type": "code",
   "execution_count": 13,
   "metadata": {
    "nbgrader": {
     "grade": false,
     "grade_id": "cell-74de8063218e6689",
     "locked": false,
     "schema_version": 3,
     "solution": true
    }
   },
   "outputs": [
    {
     "data": {
      "text/plain": [
       "[('count', 34)]"
      ]
     },
     "execution_count": 13,
     "metadata": {},
     "output_type": "execute_result"
    }
   ],
   "source": [
    "sentence = \"a problem is a big problem when data is big\"\n",
    "\n",
    "def Q2(s):\n",
    "    ### BEGIN SOLUTION\n",
    "    chars = list(s)\n",
    "    mapper = lambda s: ('count', 1) if (s != \" \") else ('count', 0)\n",
    "\n",
    "    result = mymapreduce(mapper, add, chars, 0)\n",
    "    return result\n",
    "    ### END SOLUTION\n",
    "    \n",
    "Q2(sentence)"
   ]
  },
  {
   "cell_type": "markdown",
   "metadata": {
    "nbgrader": {
     "grade": false,
     "grade_id": "cell-330bb4341b15f718",
     "locked": true,
     "schema_version": 3,
     "solution": false
    }
   },
   "source": [
    "__3. Group the given list of record by their age__\n",
    "- __hint__: you can concatenate Python lists with `+`"
   ]
  },
  {
   "cell_type": "code",
   "execution_count": 164,
   "metadata": {
    "nbgrader": {
     "grade": false,
     "grade_id": "cell-4e3182f7e09a1b05",
     "locked": false,
     "schema_version": 3,
     "solution": true
    },
    "scrolled": true
   },
   "outputs": [
    {
     "data": {
      "text/plain": [
       "[(20, 'Eva'), (22, ['Bob', 'Alice']), (24, ['Lina', 'Max']), (30, 'Ethan')]"
      ]
     },
     "execution_count": 164,
     "metadata": {},
     "output_type": "execute_result"
    }
   ],
   "source": [
    "persons = [{'name': 'Alice', 'age': 22}, {'name': 'Bob',  'age': 22},\n",
    "           {'name': 'Max',   'age': 24}, {'name': 'Lina', 'age': 24},\n",
    "           {'name': 'Ethan', 'age': 30}, {'name': 'Eva',  'age': 20}]\n",
    "\n",
    "def Q3(coll):\n",
    "    ### BEGIN SOLUTION\n",
    "    mapper = lambda s: (s['age'], s['name'])\n",
    "    reducer = lambda x,y: [y]+[x] if x != 0 else y\n",
    "    \n",
    "    result = mymapreduce(mapper, reducer, coll, 0)\n",
    "    return result\n",
    "    ### END SOLUTION\n",
    "\n",
    "Q3(persons)"
   ]
  },
  {
   "cell_type": "markdown",
   "metadata": {
    "nbgrader": {
     "grade": false,
     "grade_id": "cell-e787f810efd4db7a",
     "locked": true,
     "schema_version": 3,
     "solution": false
    }
   },
   "source": [
    "__4. Find the youngest person in the following list__\n",
    "- __hint__: you can only compare items two by two"
   ]
  },
  {
   "cell_type": "code",
   "execution_count": 102,
   "metadata": {
    "nbgrader": {
     "grade": false,
     "grade_id": "cell-c1d120453ab36baf",
     "locked": false,
     "schema_version": 3,
     "solution": true
    },
    "scrolled": true
   },
   "outputs": [
    {
     "data": {
      "text/plain": [
       "(20, 'Eva')"
      ]
     },
     "execution_count": 102,
     "metadata": {},
     "output_type": "execute_result"
    }
   ],
   "source": [
    "persons = [{'name': 'Alice', 'age': 22}, {'name': 'Bob',  'age': 22},\n",
    "           {'name': 'Max',   'age': 24}, {'name': 'Lina', 'age': 24},\n",
    "           {'name': 'Ethan', 'age': 30}, {'name': 'Eva',  'age': 20}]\n",
    "\n",
    "def Q4(coll):\n",
    "    ### BEGIN SOLUTION\n",
    "    mapper = lambda s: (s['age'], s['name'])\n",
    "    reducer = lambda x, y: y\n",
    "    result = mymapreduce(mapper, reducer, coll, 0)\n",
    "    return result[0]\n",
    "    ### END SOLUTION\n",
    "    \n",
    "Q4(persons)"
   ]
  },
  {
   "cell_type": "markdown",
   "metadata": {
    "nbgrader": {
     "grade": false,
     "grade_id": "cell-f65c1a28b8e0cb4c",
     "locked": true,
     "schema_version": 3,
     "solution": false
    }
   },
   "source": [
    "__5. Retrieve the persons who are younger than 23 year old__"
   ]
  },
  {
   "cell_type": "code",
   "execution_count": 261,
   "metadata": {
    "nbgrader": {
     "grade": false,
     "grade_id": "cell-0ba6ed662645679f",
     "locked": false,
     "schema_version": 3,
     "solution": true
    }
   },
   "outputs": [
    {
     "data": {
      "text/plain": [
       "('persons', ['Eva', 'Bob', 'Alice'])"
      ]
     },
     "execution_count": 261,
     "metadata": {},
     "output_type": "execute_result"
    }
   ],
   "source": [
    "persons = [{'name': 'Alice', 'age': 22}, {'name': 'Bob',  'age': 22},\n",
    "           {'name': 'Max',   'age': 24}, {'name': 'Lina', 'age': 24},\n",
    "           {'name': 'Ethan', 'age': 30}, {'name': 'Eva',  'age': 20}]\n",
    "\n",
    "def Q5(coll):\n",
    "    ### BEGIN SOLUTION\n",
    "    \n",
    "    mapper = lambda s: ('persons', [s['name']]) if s['age'] < 23 else ('', '')\n",
    "    reducer = lambda x,y: y+x if x != 0 else y\n",
    "    result = mymapreduce(mapper, reducer, coll, 0).pop()\n",
    "    return result\n",
    "    ### END SOLUTION\n",
    "    \n",
    "Q5(persons)"
   ]
  },
  {
   "cell_type": "code",
   "execution_count": null,
   "metadata": {},
   "outputs": [],
   "source": []
  }
 ],
 "metadata": {
  "celltoolbar": "Create Assignment",
  "kernelspec": {
   "display_name": "Python 3 (ipykernel)",
   "language": "python",
   "name": "python3"
  },
  "language_info": {
   "codemirror_mode": {
    "name": "ipython",
    "version": 3
   },
   "file_extension": ".py",
   "mimetype": "text/x-python",
   "name": "python",
   "nbconvert_exporter": "python",
   "pygments_lexer": "ipython3",
   "version": "3.8.10"
  }
 },
 "nbformat": 4,
 "nbformat_minor": 2
}
