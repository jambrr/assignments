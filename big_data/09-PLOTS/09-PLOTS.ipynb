{
 "cells": [
  {
   "cell_type": "markdown",
   "metadata": {
    "nbgrader": {
     "grade": false,
     "grade_id": "cell-30e9a7c49790a0f2",
     "locked": true,
     "schema_version": 3,
     "solution": false
    }
   },
   "source": [
    "# Tutorial: Plots"
   ]
  },
  {
   "cell_type": "markdown",
   "metadata": {
    "nbgrader": {
     "grade": false,
     "grade_id": "cell-36912ea78749d08d",
     "locked": true,
     "schema_version": 3,
     "solution": false
    }
   },
   "source": [
    "__The goal of this assignment is to create 5 plots based on the Titanic dataset.__\n",
    "\n",
    "Plots are a very useful tool to explore datasets and to present information to others.\n",
    "\n",
    "You will use [Plotnine](https://plotnine.readthedocs.io/en/latest/index.html), a Python port of R `ggplot2` that provides 2D visualizations.\n",
    "\n",
    "`ggplot2` is based on the [Grammar of Graphics](http://vita.had.co.nz/papers/layered-grammar.html), an algebra for plot components.\n",
    "\n",
    "__Grade scale__: 10 points\n",
    "- correct plot: 2 points\n",
    "- incorrect plot: 0 points\n",
    "\n",
    "__Further documentations__:\n",
    "* https://ggplot2.tidyverse.org/reference/\n",
    "* http://pbpython.com/python-vis-flowchart.html\n",
    "* https://plotnine.readthedocs.io/en/latest/api.html\n",
    "* https://www.kaggle.com/residentmario/grammar-of-graphics-with-plotnine-optional/#"
   ]
  },
  {
   "cell_type": "markdown",
   "metadata": {
    "nbgrader": {
     "grade": false,
     "grade_id": "cell-d2011f1edd81fa95",
     "locked": true,
     "schema_version": 3,
     "solution": false
    }
   },
   "source": [
    "![](https://i.imgur.com/UoIbtqI.png)"
   ]
  },
  {
   "cell_type": "markdown",
   "metadata": {
    "nbgrader": {
     "grade": false,
     "grade_id": "cell-cad05a4141096aae",
     "locked": true,
     "schema_version": 3,
     "solution": false
    }
   },
   "source": [
    "# Core\n",
    "\n",
    "__VARIABLE DESCRIPTIONS__:\n",
    "\n",
    "- __survival__        Survival(0 = No; 1 = Yes)\n",
    "- __pclass__          Passenger Class (1 = 1st; 2 = 2nd; 3 = 3rd)\n",
    "- __name__            Name\n",
    "- __sex__             Sex\n",
    "- __age__             Age\n",
    "- __sibsp__           Number of Siblings/Spouses Aboard\n",
    "- __parch__           Number of Parents/Children Aboard\n",
    "- __ticket__          Ticket Number\n",
    "- __fare__            Passenger Fare\n",
    "- __cabin__           Cabin\n",
    "- __embarked__        Port of Embarkation (C = Cherbourg; Q = Queenstown; S = Southampton)"
   ]
  },
  {
   "cell_type": "code",
   "execution_count": null,
   "metadata": {
    "nbgrader": {
     "grade": false,
     "grade_id": "cell-13798ad57397448a",
     "locked": true,
     "schema_version": 3,
     "solution": false
    }
   },
   "outputs": [],
   "source": [
    "# import plotnine objects\n",
    "from plotnine import *\n",
    "\n",
    "# import pandas library\n",
    "import pandas as pd"
   ]
  },
  {
   "cell_type": "code",
   "execution_count": null,
   "metadata": {
    "nbgrader": {
     "grade": false,
     "grade_id": "cell-4108b0773d2a621e",
     "locked": true,
     "schema_version": 3,
     "solution": false
    },
    "scrolled": false
   },
   "outputs": [],
   "source": [
    "# load the dataset with pandas\n",
    "df = pd.read_csv(\"titanic.csv.gz\")\n",
    "\n",
    "df.head()"
   ]
  },
  {
   "cell_type": "markdown",
   "metadata": {
    "nbgrader": {
     "grade": false,
     "grade_id": "cell-033eed1db5653c39",
     "locked": true,
     "schema_version": 3,
     "solution": false
    }
   },
   "source": [
    "# Examples"
   ]
  },
  {
   "cell_type": "code",
   "execution_count": null,
   "metadata": {
    "nbgrader": {
     "grade": false,
     "grade_id": "cell-11313dbecac32db5",
     "locked": true,
     "schema_version": 3,
     "solution": false
    }
   },
   "outputs": [],
   "source": [
    "# you must specify the source (df) and the variables (aes) to ggplot\n",
    "plot = ggplot(df, aes(x=\"age\", y=\"fare\", color=\"factor(survival)\"))\n",
    "plot += ggtitle(\"Relation between age, fare, surrival\")  # title\n",
    "plot += xlab(\"Passenger age\")  # x label\n",
    "plot += ylab(\"Ticket fare\")  # y label\n",
    "plot += geom_point()  # as a scatter plot\n",
    "plot += stat_smooth(method='lm')  # regression line\n",
    "plot += scale_y_log10()  # scale y-axis with log scale\n",
    "plot"
   ]
  },
  {
   "cell_type": "markdown",
   "metadata": {
    "nbgrader": {
     "grade": false,
     "grade_id": "cell-6f26e5f1e5f7d668",
     "locked": true,
     "schema_version": 3,
     "solution": false
    }
   },
   "source": [
    "# Questions\n",
    "\n",
    "__IMPORTANT__: Your result should match the image included in the question !"
   ]
  },
  {
   "cell_type": "markdown",
   "metadata": {
    "nbgrader": {
     "grade": false,
     "grade_id": "cell-87fae19f63bf5da5",
     "locked": true,
     "schema_version": 3,
     "solution": false
    }
   },
   "source": [
    "__1. Create a bar plot that represents the distribution of the `embarked` variable.__\n",
    "\n",
    "![](P1.png)"
   ]
  },
  {
   "cell_type": "code",
   "execution_count": null,
   "metadata": {
    "nbgrader": {
     "grade": false,
     "grade_id": "cell-6fa0f6cb83390e2d",
     "locked": false,
     "schema_version": 3,
     "solution": true
    },
    "scrolled": false
   },
   "outputs": [],
   "source": [
    "def Q1(df):\n",
    "    plot = None\n",
    "    ### BEGIN SOLUTION\n",
    "    ### END SOLUTION\n",
    "\n",
    "Q1(df)"
   ]
  },
  {
   "cell_type": "markdown",
   "metadata": {
    "nbgrader": {
     "grade": false,
     "grade_id": "cell-447b7ffbf2f3fba8",
     "locked": true,
     "schema_version": 3,
     "solution": false
    }
   },
   "source": [
    "__2. Create a jitter plot with a point size of 0.5 that represents the relation between `sibsp`, `parch` and `survival` variables__\n",
    "- __note__: be careful about the y tick breaks !\n",
    "\n",
    "![](P2.png)"
   ]
  },
  {
   "cell_type": "code",
   "execution_count": null,
   "metadata": {
    "nbgrader": {
     "grade": false,
     "grade_id": "cell-099a7b09457ed1e0",
     "locked": false,
     "schema_version": 3,
     "solution": true
    }
   },
   "outputs": [],
   "source": [
    "def Q2(df):\n",
    "    plot = None\n",
    "    ### BEGIN SOLUTION\n",
    "    ### END SOLUTION\n",
    "    \n",
    "Q2(df)"
   ]
  },
  {
   "cell_type": "markdown",
   "metadata": {
    "nbgrader": {
     "grade": false,
     "grade_id": "cell-b4c007da20007ce4",
     "locked": true,
     "schema_version": 3,
     "solution": false
    }
   },
   "source": [
    "__3. Create a box plot with 'red' outlier color and variable width to show the relation between `pclass` (x-axis) and `age` (y-axis) variables__\n",
    "- __note__: the outlier color must be 'red', not '#FF0000' or other alternatives\n",
    "- __hint__: you can use the factor() function for the aes to group values by plass\n",
    "\n",
    "![](P3.png)"
   ]
  },
  {
   "cell_type": "code",
   "execution_count": null,
   "metadata": {
    "nbgrader": {
     "grade": false,
     "grade_id": "cell-cec796d3dfe19639",
     "locked": false,
     "schema_version": 3,
     "solution": true
    }
   },
   "outputs": [],
   "source": [
    "def Q3(df):\n",
    "    plot = None\n",
    "    ### BEGIN SOLUTION\n",
    "    ### END SOLUTION\n",
    "    \n",
    "Q3(df)"
   ]
  },
  {
   "cell_type": "markdown",
   "metadata": {
    "nbgrader": {
     "grade": false,
     "grade_id": "cell-821836e030f6c9b7",
     "locked": true,
     "schema_version": 3,
     "solution": false
    }
   },
   "source": [
    "__4. Create a stacked histogram with 20 bins that shows the distribution of passenger `age` (x) according to `survival` (fill)__\n",
    "\n",
    "![](P4.png)"
   ]
  },
  {
   "cell_type": "code",
   "execution_count": null,
   "metadata": {
    "nbgrader": {
     "grade": false,
     "grade_id": "cell-7d112c126a073701",
     "locked": false,
     "schema_version": 3,
     "solution": true
    }
   },
   "outputs": [],
   "source": [
    "def Q4(df):\n",
    "    plot = None\n",
    "    ### BEGIN SOLUTION\n",
    "    ### END SOLUTION\n",
    "    \n",
    "Q4(df)"
   ]
  },
  {
   "cell_type": "markdown",
   "metadata": {
    "nbgrader": {
     "grade": false,
     "grade_id": "cell-11a8f4cc0873ecb6",
     "locked": true,
     "schema_version": 3,
     "solution": false
    }
   },
   "source": [
    "__5. Create a heatmap plot that shows the number of passenger per `sex` (x-axis) and `pclass` (y-axis)__\n",
    "- __hint__: you might have to create a new dataframe to aggregate the number of passengers\n",
    "- __note__: name the aggregated variable 'count' and use geom_tile\n",
    "\n",
    "![](P5.png)"
   ]
  },
  {
   "cell_type": "code",
   "execution_count": null,
   "metadata": {
    "nbgrader": {
     "grade": false,
     "grade_id": "cell-7ead8fa91eb8d891",
     "locked": false,
     "schema_version": 3,
     "solution": true
    }
   },
   "outputs": [],
   "source": [
    "def Q5(df):\n",
    "    plot = None\n",
    "    ### BEGIN SOLUTION\n",
    "    ### END SOLUTION\n",
    "    \n",
    "Q5(df)"
   ]
  }
 ],
 "metadata": {
  "celltoolbar": "Create Assignment",
  "kernelspec": {
   "display_name": "Python 3",
   "language": "python",
   "name": "python3"
  },
  "language_info": {
   "codemirror_mode": {
    "name": "ipython",
    "version": 3
   },
   "file_extension": ".py",
   "mimetype": "text/x-python",
   "name": "python",
   "nbconvert_exporter": "python",
   "pygments_lexer": "ipython3",
   "version": "3.8.3"
  }
 },
 "nbformat": 4,
 "nbformat_minor": 2
}
